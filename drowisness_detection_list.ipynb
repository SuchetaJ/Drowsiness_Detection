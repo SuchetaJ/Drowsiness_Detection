{
 "cells": [
  {
   "cell_type": "code",
   "execution_count": null,
   "id": "bb1c14e2",
   "metadata": {},
   "outputs": [],
   "source": [
    "# import the necessary packages\n",
    "from scipy.spatial import distance as dist\n",
    "from imutils.video import VideoStream\n",
    "from imutils import face_utils\n",
    "import numpy as np\n",
    "import imutils\n",
    "import time\n",
    "import dlib\n",
    "import cv2\n",
    "\n"
   ]
  },
  {
   "cell_type": "code",
   "execution_count": null,
   "id": "78f3a7c6",
   "metadata": {},
   "outputs": [],
   "source": [
    "datFile =  \"shape_predictor_68_face_landmarks.dat\"\n",
    "\n",
    "detector = dlib.get_frontal_face_detector()\n",
    "predictor = dlib.shape_predictor(datFile)"
   ]
  },
  {
   "cell_type": "code",
   "execution_count": null,
   "id": "e3b841e6",
   "metadata": {},
   "outputs": [],
   "source": [
    "def eye_aspect_ratio(eye):\n",
    "\t# compute the euclidean distances between the two sets of\n",
    "\t# vertical eye landmarks (x, y)-coordinates\n",
    "\tA = dist.euclidean(eye[1], eye[5])\n",
    "\tB = dist.euclidean(eye[2], eye[4])\n",
    "\t# compute the euclidean distance between the horizontal\n",
    "\t# eye landmark (x, y)-coordinates\n",
    "\tC = dist.euclidean(eye[0], eye[3])\n",
    "\t# compute the eye aspect ratio\n",
    "\tear = (A + B) / (2.0 * C)\n",
    "\t# return the eye aspect ratio\n",
    "\treturn ear\n"
   ]
  },
  {
   "cell_type": "code",
   "execution_count": null,
   "id": "da88bba4",
   "metadata": {},
   "outputs": [],
   "source": [
    "(lStart, lEnd) = face_utils.FACIAL_LANDMARKS_IDXS[\"left_eye\"]\n",
    "(rStart, rEnd) = face_utils.FACIAL_LANDMARKS_IDXS[\"right_eye\"]"
   ]
  },
  {
   "cell_type": "code",
   "execution_count": null,
   "id": "66345a2b",
   "metadata": {},
   "outputs": [],
   "source": [
    "def detect_drowsy(img_path): #detects on a single image\n",
    "  prediction = 0\n",
    "  EYE_AR_THRESH = 0.20\n",
    "  EYE_AR_CONSEC_FRAMES = 0\n",
    "  # initialize the frame counter as well as a boolean used to\n",
    "  # indicate if the alarm is going off\n",
    "  COUNTER = 0\n",
    "  ALARM_ON = False\n",
    "  img = cv2.imread(img_path)\n",
    "  img = imutils.resize(img, width=450)\n",
    "  #img = cv2.flip(img,1)\n",
    "  gray = cv2.cvtColor(img, cv2.COLOR_BGR2GRAY)\n",
    "  # detect faces in the grayscale frame\n",
    "  rects = detector(gray, 0)\n",
    "    # loop over the face detections\n",
    "  for rect in rects:\n",
    "    # determine the facial landmarks for the face region, then\n",
    "    # convert the facial landmark (x, y)-coordinates to a NumPy\n",
    "    # array\n",
    "    shape = predictor(gray, rect)\n",
    "    shape = face_utils.shape_to_np(shape)\n",
    "    # extract the left and right eye coordinates, then use the\n",
    "    # coordinates to compute the eye aspect ratio for both eyes\n",
    "    leftEye = shape[lStart:lEnd]\n",
    "    rightEye = shape[rStart:rEnd]\n",
    "    leftEAR = eye_aspect_ratio(leftEye)\n",
    "    rightEAR = eye_aspect_ratio(rightEye)\n",
    "    # average the eye aspect ratio together for both eyes\n",
    "    ear = (leftEAR + rightEAR) / 2.0\n",
    "    # compute the convex hull for the left and right eye, then\n",
    "    # visualize each of the eyes\n",
    "    leftEyeHull = cv2.convexHull(leftEye)\n",
    "    rightEyeHull = cv2.convexHull(rightEye)\n",
    "    cv2.drawContours(img, [leftEyeHull], -1, (0, 255, 0), 1)\n",
    "    cv2.drawContours(img, [rightEyeHull], -1, (0, 255, 0), 1)\n",
    "    if ear < EYE_AR_THRESH:\n",
    "      COUNTER += 1\n",
    "      # if the eyes were closed for a sufficient number of\n",
    "      # then sound the alarm\n",
    "      if COUNTER >= EYE_AR_CONSEC_FRAMES:\n",
    "        # draw an alarm on the frame\n",
    "        prediction = 1\n",
    "        return prediction\n",
    "        cv2.putText(img, \"DROWSINESS ALERT!\", (10, 30),\n",
    "          cv2.FONT_HERSHEY_SIMPLEX, 0.7, (0, 0, 255), 2)\n",
    "    # otherwise, the eye aspect ratio is not below the blink\n",
    "    # threshold, so reset the counter and alarm\n",
    "    else:\n",
    "      COUNTER = 0\n",
    "      ALARM_ON = False\n",
    "    # draw the computed eye aspect ratio on the frame to help\n",
    "    # with debugging and setting the correct eye aspect ratio\n",
    "    # thresholds and frame counters\n",
    "    cv2.putText(img, \"EAR: {:.2f}\".format(ear), (300, 30),cv2.FONT_HERSHEY_SIMPLEX, 0.7, (0, 0, 255), 2)\n",
    "    return prediction"
   ]
  },
  {
   "cell_type": "code",
   "execution_count": null,
   "id": "9891c891",
   "metadata": {},
   "outputs": [],
   "source": [
    "def detect_drowsy_frames(list_img): #runs on a list of images\n",
    "  result =[]\n",
    "  consecutive = []\n",
    "  for i in range(len(list_img)):\n",
    "    predict = detect_drowsy(list_img[i])\n",
    "    result.append(predict)\n",
    "  for j in range(1,len(result)):\n",
    "    if result[0]==result[1] and result[0]==1:\n",
    "      consecutive.append(result[0])\n",
    "    if result[j] == result[j-1] and result[j]==1:\n",
    "      consecutive.append(result[j])\n",
    "  if sum(consecutive) >= 5:\n",
    "    return 'drowsy'\n",
    "  else:\n",
    "    return 'awake'"
   ]
  }
 ],
 "metadata": {
  "kernelspec": {
   "display_name": "Python 3 (ipykernel)",
   "language": "python",
   "name": "python3"
  },
  "language_info": {
   "codemirror_mode": {
    "name": "ipython",
    "version": 3
   },
   "file_extension": ".py",
   "mimetype": "text/x-python",
   "name": "python",
   "nbconvert_exporter": "python",
   "pygments_lexer": "ipython3",
   "version": "3.9.7"
  }
 },
 "nbformat": 4,
 "nbformat_minor": 5
}
