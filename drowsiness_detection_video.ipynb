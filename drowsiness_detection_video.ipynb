{
  "nbformat": 4,
  "nbformat_minor": 0,
  "metadata": {
    "colab": {
      "provenance": []
    },
    "kernelspec": {
      "name": "python3",
      "display_name": "Python 3"
    },
    "language_info": {
      "name": "python"
    }
  },
  "cells": [
    {
      "cell_type": "code",
      "execution_count": 1,
      "metadata": {
        "colab": {
          "base_uri": "https://localhost:8080/"
        },
        "id": "Cy5E4BKGdjxV",
        "outputId": "43954921-afed-44d8-ddf2-fc171527604b"
      },
      "outputs": [
        {
          "output_type": "stream",
          "name": "stdout",
          "text": [
            "Looking in indexes: https://pypi.org/simple, https://us-python.pkg.dev/colab-wheels/public/simple/\n",
            "Collecting playsound\n",
            "  Downloading playsound-1.3.0.tar.gz (7.7 kB)\n",
            "  Preparing metadata (setup.py) ... \u001b[?25l\u001b[?25hdone\n",
            "Building wheels for collected packages: playsound\n",
            "  Building wheel for playsound (setup.py) ... \u001b[?25l\u001b[?25hdone\n",
            "  Created wheel for playsound: filename=playsound-1.3.0-py3-none-any.whl size=7035 sha256=28c99ca9b1faf726d60bef96f2506ae9238c08da6a4d54c8e7e09c18e069824a\n",
            "  Stored in directory: /root/.cache/pip/wheels/ba/39/54/c8f7ff9a88a644d3c58b4dec802d90b79a2e0fb2a6b884bf82\n",
            "Successfully built playsound\n",
            "Installing collected packages: playsound\n",
            "Successfully installed playsound-1.3.0\n"
          ]
        }
      ],
      "source": [
        "!pip install playsound"
      ]
    },
    {
      "cell_type": "code",
      "source": [
        "!pip install pygobject"
      ],
      "metadata": {
        "colab": {
          "base_uri": "https://localhost:8080/"
        },
        "id": "ZdLS2nRIdn-J",
        "outputId": "7534bd4a-6e0a-4a73-ba6f-8c07d5b1dc08"
      },
      "execution_count": 2,
      "outputs": [
        {
          "output_type": "stream",
          "name": "stdout",
          "text": [
            "Looking in indexes: https://pypi.org/simple, https://us-python.pkg.dev/colab-wheels/public/simple/\n",
            "Requirement already satisfied: pygobject in /usr/lib/python3/dist-packages (3.36.0)\n",
            "Collecting pycairo>=1.11.1\n",
            "  Downloading pycairo-1.23.0.tar.gz (344 kB)\n",
            "\u001b[2K     \u001b[90m━━━━━━━━━━━━━━━━━━━━━━━━━━━━━━━━━━━━━━━\u001b[0m \u001b[32m344.6/344.6 kB\u001b[0m \u001b[31m7.3 MB/s\u001b[0m eta \u001b[36m0:00:00\u001b[0m\n",
            "\u001b[?25h  Installing build dependencies ... \u001b[?25l\u001b[?25hdone\n",
            "  Getting requirements to build wheel ... \u001b[?25l\u001b[?25hdone\n",
            "  Installing backend dependencies ... \u001b[?25l\u001b[?25hdone\n",
            "  Preparing metadata (pyproject.toml) ... \u001b[?25l\u001b[?25hdone\n",
            "Building wheels for collected packages: pycairo\n",
            "  \u001b[1;31merror\u001b[0m: \u001b[1msubprocess-exited-with-error\u001b[0m\n",
            "  \n",
            "  \u001b[31m×\u001b[0m \u001b[32mBuilding wheel for pycairo \u001b[0m\u001b[1;32m(\u001b[0m\u001b[32mpyproject.toml\u001b[0m\u001b[1;32m)\u001b[0m did not run successfully.\n",
            "  \u001b[31m│\u001b[0m exit code: \u001b[1;36m1\u001b[0m\n",
            "  \u001b[31m╰─>\u001b[0m See above for output.\n",
            "  \n",
            "  \u001b[1;35mnote\u001b[0m: This error originates from a subprocess, and is likely not a problem with pip.\n",
            "  Building wheel for pycairo (pyproject.toml) ... \u001b[?25l\u001b[?25herror\n",
            "\u001b[31m  ERROR: Failed building wheel for pycairo\u001b[0m\u001b[31m\n",
            "\u001b[0mFailed to build pycairo\n",
            "\u001b[31mERROR: Could not build wheels for pycairo, which is required to install pyproject.toml-based projects\u001b[0m\u001b[31m\n",
            "\u001b[0m"
          ]
        }
      ]
    },
    {
      "cell_type": "code",
      "source": [
        "!pip install --upgrade imutils"
      ],
      "metadata": {
        "colab": {
          "base_uri": "https://localhost:8080/"
        },
        "id": "4GOReSobdoOU",
        "outputId": "b0492797-bb3b-463d-ce1c-adedab83c217"
      },
      "execution_count": 3,
      "outputs": [
        {
          "output_type": "stream",
          "name": "stdout",
          "text": [
            "Looking in indexes: https://pypi.org/simple, https://us-python.pkg.dev/colab-wheels/public/simple/\n",
            "Requirement already satisfied: imutils in /usr/local/lib/python3.9/dist-packages (0.5.4)\n"
          ]
        }
      ]
    },
    {
      "cell_type": "code",
      "source": [
        "# import the necessary packages\n",
        "from scipy.spatial import distance as dist\n",
        "from imutils.video import VideoStream\n",
        "from imutils import face_utils\n",
        "from threading import Thread\n",
        "import numpy as np\n",
        "import playsound\n",
        "import argparse\n",
        "import imutils\n",
        "import time\n",
        "import dlib\n",
        "import cv2"
      ],
      "metadata": {
        "colab": {
          "base_uri": "https://localhost:8080/"
        },
        "id": "nM2Xtk2Fdpw8",
        "outputId": "af9129c3-5f56-4932-d4c5-5167fdc51e68"
      },
      "execution_count": 4,
      "outputs": [
        {
          "output_type": "stream",
          "name": "stderr",
          "text": [
            "WARNING:playsound:playsound is relying on another python subprocess. Please use `pip install pygobject` if you want playsound to run more efficiently.\n"
          ]
        }
      ]
    },
    {
      "cell_type": "code",
      "source": [
        "!wget   http://dlib.net/files/shape_predictor_68_face_landmarks.dat.bz2 # DOWNLOAD LINK\n",
        "\n",
        "!bunzip2 /content/shape_predictor_68_face_landmarks.dat.bz2\n",
        "\n",
        "datFile =  \"/content/shape_predictor_68_face_landmarks.dat\""
      ],
      "metadata": {
        "colab": {
          "base_uri": "https://localhost:8080/"
        },
        "id": "Qh8n-9ArdrI5",
        "outputId": "9643bf69-51d6-49dd-d460-640187fdcf2a"
      },
      "execution_count": 5,
      "outputs": [
        {
          "output_type": "stream",
          "name": "stdout",
          "text": [
            "--2023-04-18 08:24:41--  http://dlib.net/files/shape_predictor_68_face_landmarks.dat.bz2\n",
            "Resolving dlib.net (dlib.net)... 107.180.26.78\n",
            "Connecting to dlib.net (dlib.net)|107.180.26.78|:80... connected.\n",
            "HTTP request sent, awaiting response... 200 OK\n",
            "Length: 64040097 (61M)\n",
            "Saving to: ‘shape_predictor_68_face_landmarks.dat.bz2’\n",
            "\n",
            "shape_predictor_68_ 100%[===================>]  61.07M  18.5MB/s    in 3.3s    \n",
            "\n",
            "2023-04-18 08:24:44 (18.5 MB/s) - ‘shape_predictor_68_face_landmarks.dat.bz2’ saved [64040097/64040097]\n",
            "\n"
          ]
        }
      ]
    },
    {
      "cell_type": "code",
      "source": [
        "detector = dlib.get_frontal_face_detector()\n",
        "predictor = dlib.shape_predictor(datFile)"
      ],
      "metadata": {
        "id": "Dqw21jSKds8W"
      },
      "execution_count": 6,
      "outputs": []
    },
    {
      "cell_type": "code",
      "source": [
        "def eye_aspect_ratio(eye):\n",
        "\t# compute the euclidean distances between the two sets of\n",
        "\t# vertical eye landmarks (x, y)-coordinates\n",
        "\tA = dist.euclidean(eye[1], eye[5])\n",
        "\tB = dist.euclidean(eye[2], eye[4])\n",
        "\t# compute the euclidean distance between the horizontal\n",
        "\t# eye landmark (x, y)-coordinates\n",
        "\tC = dist.euclidean(eye[0], eye[3])\n",
        "\t# compute the eye aspect ratio\n",
        "\tear = (A + B) / (2.0 * C)\n",
        "\t# return the eye aspect ratio\n",
        "\treturn ear"
      ],
      "metadata": {
        "id": "FyPd8b0udv_C"
      },
      "execution_count": 8,
      "outputs": []
    },
    {
      "cell_type": "code",
      "source": [
        "# define two constants, one for the eye aspect ratio to indicate\n",
        "# blink and then a second constant for the number of consecutive\n",
        "# frames the eye must be below the threshold for to set off the\n",
        "# alarm\n",
        "EYE_AR_THRESH = 0.20\n",
        "EYE_AR_CONSEC_FRAMES = 10\n",
        "# initialize the frame counter as well as a boolean used to\n",
        "# indicate if the alarm is going off\n",
        "COUNTER = 0"
      ],
      "metadata": {
        "id": "W13UMumXdyfM"
      },
      "execution_count": 9,
      "outputs": []
    },
    {
      "cell_type": "code",
      "source": [
        "import matplotlib.pyplot as plt\n",
        "# loop over frames from the video stream\n",
        "# start the video stream thread\n",
        "print(\"[INFO] starting video stream thread...\")\n",
        "\n",
        "cap = cv2.VideoCapture('2.mp4')\n",
        "i=0\n",
        "detected_img = []\n",
        "while cap.isOpened():\n",
        "\tret,img = cap.read()\n",
        "\tif not ret:\n",
        "\t\tbreak\n",
        "\ti+=1\n",
        "\timg = imutils.resize(img, width=450)\n",
        "  #img = cv2.flip(img,1)\n",
        "\tgray = cv2.cvtColor(img, cv2.COLOR_BGR2GRAY)\n",
        "  # detect faces in the grayscale frame\n",
        "\trects = detector(gray, 0)\n",
        "    # loop over the face detections\n",
        "\tfor rect in rects:\n",
        "    # determine the facial landmarks for the face region, then\n",
        "    # convert the facial landmark (x, y)-coordinates to a NumPy\n",
        "    # array\n",
        "\t\tshape = predictor(gray, rect)\n",
        "\t\tshape = face_utils.shape_to_np(shape)\n",
        "    # extract the left and right eye coordinates, then use the\n",
        "    # coordinates to compute the eye aspect ratio for both eyes\n",
        "\t\tleftEye = shape[lStart:lEnd]\n",
        "\t\trightEye = shape[rStart:rEnd]\n",
        "\t\tleftEAR = eye_aspect_ratio(leftEye)\n",
        "\t\trightEAR = eye_aspect_ratio(rightEye)\n",
        "    # average the eye aspect ratio together for both eyes\n",
        "\t\tear = (leftEAR + rightEAR) / 2.0\n",
        "    # compute the convex hull for the left and right eye, then\n",
        "    # visualize each of the eyes\n",
        "\t\tleftEyeHull = cv2.convexHull(leftEye)\n",
        "\t\trightEyeHull = cv2.convexHull(rightEye)\n",
        "\t\tcv2.drawContours(img, [leftEyeHull], -1, (0, 255, 0), 1)\n",
        "\t\tcv2.drawContours(img, [rightEyeHull], -1, (0, 255, 0), 1)\n",
        "\t\tif ear < EYE_AR_THRESH:\n",
        "\t\t\t\tCOUNTER += 1\n",
        "      # if the eyes were closed for a sufficient number of frames\n",
        "\t\t\t\tif COUNTER >= EYE_AR_CONSEC_FRAMES:\n",
        "        # if the alarm is not on, turn it on\n",
        "        # draw an alarm on the frame\n",
        "\t\t\t\t\t\tcv2.putText(img, \"DROWSINESS ALERT!\", (10, 30), cv2.FONT_HERSHEY_SIMPLEX, 0.7, (0, 0, 255), 2)\n",
        "    # otherwise, the eye aspect ratio is not below the blink\n",
        "    # threshold, so reset the counter and alarm\n",
        "\t\telse:\n",
        "\t\t\t\tCOUNTER = 0\n",
        "      #ALARM_ON = False\n",
        "    # draw the computed eye aspect ratio on the frame to help\n",
        "    # with debugging and setting the correct eye aspect ratio\n",
        "    # thresholds and frame counters\n",
        "\t\tcv2.putText(img, \"EAR: {:.2f}\".format(ear), (300, 30),cv2.FONT_HERSHEY_SIMPLEX, 0.7, (0, 0, 255), 2)\n",
        "\n",
        "  # show the frame\n",
        "\tplt.imshow(img)\n",
        "\tdetected_img.append(img)\n",
        "\tkey = cv2.waitKey(1) & 0xFF\n",
        "\n",
        "# if the `q` key was pressed, break from the loop\n",
        "\tif key == ord(\"q\"):\n",
        "\t\tbreak\n",
        "# do a bit of cleanup\n",
        "cv2.destroyAllWindows()\n"
      ],
      "metadata": {
        "id": "tDO6UmS7dz6x"
      },
      "execution_count": null,
      "outputs": []
    }
  ]
}